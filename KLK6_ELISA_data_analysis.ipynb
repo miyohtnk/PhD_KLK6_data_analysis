{
 "cells": [
  {
   "cell_type": "code",
   "execution_count": null,
   "id": "84fac8f0",
   "metadata": {},
   "outputs": [],
   "source": [
    "#important libraries to load\n",
    "import numpy as np\n",
    "import matplotlib.pyplot as plt\n",
    "import pandas as pd\n",
    "import scipy.stats as stats # for stats.probplot, check QQ plot for normally distributed data\n",
    "import seaborn as sns\n",
    "from scipy.stats import f_oneway # one-way ANOVA\n",
    "from statsmodels.stats.multicomp import pairwise_tukeyhsd"
   ]
  },
  {
   "cell_type": "code",
   "execution_count": null,
   "id": "930bea90",
   "metadata": {},
   "outputs": [],
   "source": [
    "file_path = \"C:\\\\Users\\\\miyoh\\\\OneDrive - University of Toronto\\\\University\\\\University of Toronto\\\\Diamandis Lab\\\\Analyses\\\\People Analyses\\\\Miyo\\\\2025\\\\KLK6 assay\\\\KLK6 for Morato samples.xlsx\"\n",
    "df= pd.read_excel(file_path, \"Sheet2\")"
   ]
  },
  {
   "cell_type": "code",
   "execution_count": null,
   "id": "b04f9306",
   "metadata": {},
   "outputs": [],
   "source": [
    "df #check that it was read fine"
   ]
  },
  {
   "cell_type": "code",
   "execution_count": null,
   "id": "61561192",
   "metadata": {},
   "outputs": [],
   "source": [
    "#the columns need to be renamed\n",
    "\n",
    "df.columns = df.iloc[0] #the new column names are taken from row 1\n",
    "df = df.drop(df.index[0]) #drop the first row, since we have now saved is as column names"
   ]
  },
  {
   "cell_type": "code",
   "execution_count": null,
   "id": "ce61e728",
   "metadata": {},
   "outputs": [],
   "source": [
    "df #check that it worked, new column names should be Value, ID, Group"
   ]
  },
  {
   "cell_type": "code",
   "execution_count": null,
   "id": "c43cd547",
   "metadata": {},
   "outputs": [],
   "source": [
    "#make Value column a numeric value\n",
    "\n",
    "#In order to do QQ-plots later, I have to turn the Value column into a float (rather than have it as object)\n",
    "#this way, the other two columns remain intact, without being removed\n",
    "\n",
    "df = df[[\"ID\", \"Group\", \"Value\"]].apply(pd.to_numeric, errors = \"ignore\")"
   ]
  },
  {
   "cell_type": "markdown",
   "id": "22050ce2",
   "metadata": {},
   "source": [
    "To see if the data are normally distributed, it is possible to run two statistical tests:\n",
    "- Shapiro-Wilk Test, which is suitable for smaller sample sizes (typically <50), where the null hypothesis is that the data are normally distributed.\n",
    "- D'Agostino's K-squared test (normaltest), which is based on skewness and kurtosis and is generally suitable for larger sample sizes. Similar to Shapiro-Wilk, a low p-value suggests non-normalilty."
   ]
  },
  {
   "cell_type": "code",
   "execution_count": null,
   "id": "5435339f",
   "metadata": {},
   "outputs": [],
   "source": [
    "#perform D\"Agostino K^2 test\n",
    "\n",
    "groups = df['Group'].unique() #group by Group\n",
    "\n",
    "for group_name in groups:\n",
    "    group_data = df[df[\"Group\"] == group_name][\"Value\"]\n",
    "    statistic, p_value = stats.normaltest(group_data) #if we wanted to do Shapiro-Wilk, we would run a shapiro()\n",
    "    print(f\"Normality test for Group {group_name}:\")\n",
    "    print(f\" D'Agostino K^2 Statistic: {statistic:.4f}\")\n",
    "    print(f\" P-value: {p_value:.4f}\")\n",
    "\n",
    "    alpha = 0.05 #significance level\n",
    "    if p_value > alpha:\n",
    "        print(f\"Result: Data for Group {group_name} appears to be normally distributed (fail to reject H0)\")\n",
    "    else:\n",
    "        print(f\"Result: Data for group {group_name} does not appear to be normally distributed (reject H0)\")\n",
    "    print(\"-\" * 30)"
   ]
  },
  {
   "cell_type": "code",
   "execution_count": null,
   "id": "83536a1b",
   "metadata": {},
   "outputs": [],
   "source": [
    "#alternatively, check normal distribution using QQ plot\n",
    "\n",
    "for group_name in groups:\n",
    "    group_data = df[df[\"Group\"] == group_name][\"Value\"]\n",
    "    stats.probplot(group_data,dist = \"norm\", plot=plt)\n",
    "    plt.title(\"Q-Q Plot of Values\")\n",
    "    plt.show()"
   ]
  },
  {
   "cell_type": "code",
   "execution_count": null,
   "id": "fb830f67",
   "metadata": {},
   "outputs": [],
   "source": [
    "#Since our data is not normally distributed, we log2 transform our values\n",
    "#in a new column, which will be used from now on\n",
    "\n",
    "df[\"log2_Value\"] = np.log2(df[\"Value\"])"
   ]
  },
  {
   "cell_type": "code",
   "execution_count": 80,
   "id": "dfaf5808",
   "metadata": {},
   "outputs": [
    {
     "name": "stdout",
     "output_type": "stream",
     "text": [
      "Normality test for Group MCI_nonProgressor:\n",
      " Shapiro-Wilk Statistic: 0.0006\n",
      " P-value: 0.9997\n",
      "Result: Data for Group MCI_nonProgressor appears to be normally distributed (fail to reject H0)\n",
      "------------------------------\n",
      "Normality test for Group MCI_conver_toDem:\n",
      " Shapiro-Wilk Statistic: 4.0030\n",
      " P-value: 0.1351\n",
      "Result: Data for Group MCI_conver_toDem appears to be normally distributed (fail to reject H0)\n",
      "------------------------------\n",
      "Normality test for Group SCD:\n",
      " Shapiro-Wilk Statistic: 0.3784\n",
      " P-value: 0.8276\n",
      "Result: Data for Group SCD appears to be normally distributed (fail to reject H0)\n",
      "------------------------------\n",
      "Normality test for Group AD:\n",
      " Shapiro-Wilk Statistic: 5.9537\n",
      " P-value: 0.0510\n",
      "Result: Data for Group AD appears to be normally distributed (fail to reject H0)\n",
      "------------------------------\n"
     ]
    }
   ],
   "source": [
    "#Check for normality again using the log2 values\n",
    "\n",
    "for group_name in groups:\n",
    "    group_data = df[df[\"Group\"] == group_name][\"log2_Value\"]\n",
    "    statistic, p_value = stats.normaltest(group_data)\n",
    "    print(f\"Normality test for Group {group_name}:\")\n",
    "    print(f\" Shapiro-Wilk Statistic: {statistic:.4f}\")\n",
    "    print(f\" P-value: {p_value:.4f}\")\n",
    "\n",
    "    alpha = 0.05 #significance level\n",
    "    if p_value > alpha:\n",
    "        print(f\"Result: Data for Group {group_name} appears to be normally distributed (fail to reject H0)\")\n",
    "    else:\n",
    "        print(f\"Result: Data for group {group_name} does not appear to be normally distributed (reject H0)\")\n",
    "    print(\"-\" * 30)"
   ]
  },
  {
   "cell_type": "markdown",
   "id": "0a141715",
   "metadata": {},
   "source": [
    "We have to perform the statistics, in this case a one-way ANOVA test (parametric)"
   ]
  },
  {
   "cell_type": "code",
   "execution_count": null,
   "id": "7208425a",
   "metadata": {},
   "outputs": [],
   "source": [
    "#Create 4 groups for stat analysis based on Group column\n",
    "group_nonprog = df[df[\"Group\"] == \"MCI_nonProgressor\"]['log2_Value']\n",
    "group_prog = df[df[\"Group\"] == \"MCI_conver_toDem\"]['log2_Value']\n",
    "group_SCD= df[df[\"Group\"] == \"SCD\"]['log2_Value']\n",
    "group_AD = df[df[\"Group\"] == \"AD\"]['log2_Value']"
   ]
  },
  {
   "cell_type": "code",
   "execution_count": null,
   "id": "0cf3c53a",
   "metadata": {},
   "outputs": [],
   "source": [
    "#One-way ANOVA\n",
    "\n",
    "f_statistic, p_value = f_oneway(group_SCD, group_prog, group_AD, group_nonprog)\n",
    "print(f\"F-statistic: {f_statistic}\")\n",
    "print(f\"P-value: {p_value}\")\n",
    "\n",
    "#interpretation:\n",
    "\n",
    "alpha = 0.05 #significance level\n",
    "if p_value <alpha:\n",
    "    print(\"Reject the null hypothesis: There is a significant difference between the groups\")\n",
    "else:\n",
    "    print(\"Fail to reject the null hypothesis: there is no significant differences between the groups\")"
   ]
  },
  {
   "cell_type": "markdown",
   "id": "d72fc5b2",
   "metadata": {},
   "source": [
    "In order to see which groups are significantly different from each other, a post-hoc test is used. Tukey's is a common choice."
   ]
  },
  {
   "cell_type": "code",
   "execution_count": null,
   "id": "010c5eba",
   "metadata": {},
   "outputs": [],
   "source": [
    "tukey_result = pairwise_tukeyhsd(endog=df['log2_Value'], groups = df['Group'], alpha = 0.05)\n",
    "print(tukey_result)\n",
    "p_values = tukey_result.pvalues"
   ]
  },
  {
   "cell_type": "code",
   "execution_count": null,
   "id": "e6ae97b3",
   "metadata": {},
   "outputs": [],
   "source": [
    "p_values #check to see what the different p_values are to use later"
   ]
  },
  {
   "cell_type": "code",
   "execution_count": 81,
   "id": "6a6e22af",
   "metadata": {},
   "outputs": [],
   "source": [
    "# Function to add significance bars with custom symbols\n",
    "def add_sig_bars(ax, group1, group2, p_value, x1, x2, y):\n",
    "    \"\"\"Add significance bars with custom symbols and sizes based on p-value.\"\"\"\n",
    "    y_offset = 0.2  # Offset for the bar\n",
    "    ax.plot([x1, x1, x2, x2], [y, y + y_offset, y + y_offset, y], color='black')\n",
    "    \n",
    "    # Annotate with different symbols based on p-value\n",
    "    if p_value < 0.001:\n",
    "        ax.text((x1 + x2) / 2, y + y_offset + 0.1, '***', fontsize=12, ha='center', color='red')\n",
    "    elif p_value < 0.01:\n",
    "        ax.text((x1 + x2) / 2, y + y_offset + 0.1, '**', fontsize=12, ha='center', color='orange')\n",
    "    elif p_value < 0.05:\n",
    "        ax.text((x1 + x2) / 2, y + y_offset + 0.1, '*', fontsize=12, ha='center', color='blue')"
   ]
  },
  {
   "cell_type": "code",
   "execution_count": 85,
   "id": "8d82d579",
   "metadata": {},
   "outputs": [
    {
     "name": "stderr",
     "output_type": "stream",
     "text": [
      "C:\\Users\\miyoh\\AppData\\Local\\Temp\\ipykernel_39924\\1072527576.py:2: FutureWarning: \n",
      "\n",
      "Passing `palette` without assigning `hue` is deprecated and will be removed in v0.14.0. Assign the `x` variable to `hue` and set `legend=False` for the same effect.\n",
      "\n",
      "  ax = sns.boxplot(y = df[\"log2_Value\"], x= df[\"Group\"], palette= \"RdBu\")\n"
     ]
    },
    {
     "data": {
      "text/plain": [
       "(7.105036179299593, 11.0)"
      ]
     },
     "execution_count": 85,
     "metadata": {},
     "output_type": "execute_result"
    },
    {
     "data": {
      "image/png": "[encoded data removed]",
      "text/plain": [
       "<Figure size 1000x600 with 1 Axes>"
      ]
     },
     "metadata": {},
     "output_type": "display_data"
    }
   ],
   "source": [
    "plt.figure(figsize=(10,6))\n",
    "ax = sns.boxplot(y = df[\"log2_Value\"], x= df[\"Group\"], palette= \"RdBu\")\n",
    "\n",
    "#manually check the sig p values\n",
    "add_sig_bars(ax, \"MCI_nonProgessor\", \"MCI_conver_toDem\",p_values[3],0 ,1, 9.5)\n",
    "add_sig_bars(ax, \"AD\", \"MCI_nonProgessor\",p_values[1],0 ,3, 10)\n",
    "add_sig_bars(ax, \"AD\", \"SCD\",p_values[2],2 ,3, 10.4)\n",
    "add_sig_bars(ax, \"SCD\", \"MCI_conver_toDem\",p_values[4],1 ,2, 9.4)\n",
    "\n",
    "\n",
    "plt.title(\"Comparison of KLK6 in the AD continuum\", fontsize = 17)\n",
    "plt.ylim(top=11.0)"
   ]
  },
  {
   "cell_type": "code",
   "execution_count": null,
   "id": "3aa54c1a",
   "metadata": {},
   "outputs": [],
   "source": []
  }
 ],
 "metadata": {
  "kernelspec": {
   "display_name": "dsi_participant",
   "language": "python",
   "name": "python3"
  },
  "language_info": {
   "codemirror_mode": {
    "name": "ipython",
    "version": 3
   },
   "file_extension": ".py",
   "mimetype": "text/x-python",
   "name": "python",
   "nbconvert_exporter": "python",
   "pygments_lexer": "ipython3",
   "version": "3.9.15"
  }
 },
 "nbformat": 4,
 "nbformat_minor": 5
}
